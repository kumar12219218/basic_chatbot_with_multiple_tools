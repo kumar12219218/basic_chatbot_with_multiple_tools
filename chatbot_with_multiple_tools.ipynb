{
 "cells": [
  {
   "cell_type": "markdown",
   "id": "0788891d",
   "metadata": {},
   "source": [
    "### Building chatbot with Multiple tools using Langgraph\n",
    "\n",
    "##### Aim\n",
    "Create a chatbot with tool capabilities from arxiv, wikipedia search and some functions"
   ]
  },
  {
   "cell_type": "code",
   "execution_count": 1,
   "id": "3fc51d74",
   "metadata": {},
   "outputs": [],
   "source": [
    "from langchain_community.tools import ArxivQueryRun, WikipediaQueryRun\n",
    "from langchain_community.utilities import WikipediaAPIWrapper, ArxivAPIWrapper"
   ]
  },
  {
   "cell_type": "code",
   "execution_count": 3,
   "id": "13b2c8a2",
   "metadata": {},
   "outputs": [
    {
     "name": "stdout",
     "output_type": "stream",
     "text": [
      "arxiv\n"
     ]
    }
   ],
   "source": [
    "api_wrapper_arxiv=ArxivAPIWrapper(top_k_results=2, doc_content_chars_max=500)\n",
    "arxiv=ArxivQueryRun(api_wrapper=api_wrapper_arxiv)\n",
    "print(arxiv.name)"
   ]
  },
  {
   "cell_type": "code",
   "execution_count": 4,
   "id": "061863a8",
   "metadata": {},
   "outputs": [
    {
     "data": {
      "text/plain": [
       "'Published: 2024-02-12\\nTitle: The I/O Complexity of Attention, or How Optimal is Flash Attention?\\nAuthors: Barna Saha, Christopher Ye\\nSummary: Self-attention is at the heart of the popular Transformer architecture, yet\\nsuffers from quadratic time and memory complexity. The breakthrough\\nFlashAttention algorithm revealed I/O complexity as the true bottleneck in\\nscaling Transformers. Given two levels of memory hierarchy, a fast cache (e.g.\\nGPU on-chip SRAM) and a slow memory (e.g. GPU high-bandwidth'"
      ]
     },
     "execution_count": 4,
     "metadata": {},
     "output_type": "execute_result"
    }
   ],
   "source": [
    "arxiv.invoke(\"Attention is all i need\")"
   ]
  },
  {
   "cell_type": "code",
   "execution_count": 5,
   "id": "9da82f11",
   "metadata": {},
   "outputs": [
    {
     "data": {
      "text/plain": [
       "'wikipedia'"
      ]
     },
     "execution_count": 5,
     "metadata": {},
     "output_type": "execute_result"
    }
   ],
   "source": [
    "api_wrapper_wiki=WikipediaAPIWrapper(top_k_results=2,doc_content_chars_max=500)\n",
    "wiki=WikipediaQueryRun(api_wrapper=api_wrapper_wiki)\n",
    "wiki.name"
   ]
  },
  {
   "cell_type": "code",
   "execution_count": 6,
   "id": "825e30ad",
   "metadata": {},
   "outputs": [
    {
     "data": {
      "text/plain": [
       "'Page: Standard ML\\nSummary: Standard ML (SML) is a general-purpose, high-level, modular, functional programming language with compile-time type checking and type inference. It is popular for writing compilers, for programming language research, and for developing theorem provers.\\nStandard ML is a modern dialect of ML, the language used in the Logic for Computable Functions (LCF) theorem-proving project. It is distinctive among widely used languages in that it has a formal specification, given as '"
      ]
     },
     "execution_count": 6,
     "metadata": {},
     "output_type": "execute_result"
    }
   ],
   "source": [
    "wiki.invoke(\"What is ML\")"
   ]
  },
  {
   "cell_type": "code",
   "execution_count": null,
   "id": "b596cb9f",
   "metadata": {},
   "outputs": [],
   "source": [
    "TAVILY_API_KEY=\"abc\"\n",
    "GROQ_API_KEY=\"abc\"\n",
    "import os\n",
    "os.environ[\"TAVILY_API_KEY\"]=TAVILY_API_KEY\n",
    "os.environ[\"GROQ_API_KEY\"]=GROQ_API_KEY"
   ]
  },
  {
   "cell_type": "code",
   "execution_count": 15,
   "id": "77075252",
   "metadata": {},
   "outputs": [],
   "source": [
    "from langchain_community.tools.tavily_search import TavilySearchResults\n",
    "tavily=TavilySearchResults()"
   ]
  },
  {
   "cell_type": "code",
   "execution_count": 16,
   "id": "49258a65",
   "metadata": {},
   "outputs": [
    {
     "data": {
      "text/plain": [
       "[{'title': 'The latest AI news we announced in June - Google Blog',\n",
       "  'url': 'https://blog.google/technology/ai/google-ai-updates-june-2025/',\n",
       "  'content': '# The latest AI news we announced in June\\n\\nJul 02, 2025\\n\\nHere’s a recap of some of our biggest AI updates from June, including more ways to search with AI Mode, a new way to share your NotebookLM notebooks publicly, and a new AI to help researchers better understand the human genome.\\n\\nSuperG\\n\\n## Basic explainer [...] For more than 20 years, we’ve invested in machine learning and AI research, tools and infrastructure to build products that make everyday life better for more people. Teams across Google are working on ways to unlock AI’s benefits in fields as wide-ranging as healthcare, crisis response and education. To keep you posted on our progress, we\\'re doing a regular roundup of Google\\'s most recent AI news.\\n\\nHere’s a look back at some of our AI announcements from June. [...] a text card reading \"AI to revolutionize scientific discovery\"\\n\\nWe introduced AlphaGenome: AI to better understand the human genome. Our new, unifying DNA sequence model advances regulatory variant-effect prediction and promises to shed new light on genome function. To advance scientific research, we’re making AlphaGenome available in preview via our AlphaGenome API for non-commercial research, with plans to release the model in the future.',\n",
       "  'score': 0.72207695},\n",
       " {'title': 'AI Update, August 1, 2025: AI News and Views From the Past Week',\n",
       "  'url': 'https://www.marketingprofs.com/opinions/2025/53515/ai-update-august-1-2025-ai-news-and-views-from-the-past-week',\n",
       "  'content': 'China proposes global AI cooperation organization. At the World AI Conference, China\\'s Premier Li Qiang proposed creating an international body to coordinate AI governance. He warned against AI becoming an \"exclusive game\" for few nations and stressed open sharing of AI development, particularly with the Global South. An AI governance action plan was released. Importance for marketers: International AI policy shifts can affect global tech collaboration and regulatory frameworks impacting [...] China\\'s Zhipu releases open-source GLM-4.5 model for AI agents. Chinese startup Zhipu unveiled its GLM-4.5 model designed for intelligent agents, adding to China\\'s growing list of large language models. As of July, China has released 1,509 LLMs, leading global output. The move highlights escalating competition in AI innovation and government-supported development. Importance for marketers: More open-source models expand AI tool options globally, potentially reducing reliance on Western [...] Google Search AI Mode updated for visual homework help. Google expands AI Mode to allow image uploads on desktop, enabling students to get AI explanations of visual content like math problems. Real-time camera sharing and PDF uploads will follow. Canvas integration will create study guides and interactive workspaces for refining projects. Importance for marketers: Enhanced AI search capabilities can shape user behavior and SEO strategies, influencing how educational content and brand resources',\n",
       "  'score': 0.7043437},\n",
       " {'title': 'AI News & Artificial Intelligence | TechCrunch',\n",
       "  'url': 'https://techcrunch.com/category/artificial-intelligence/',\n",
       "  'content': '### Vast Data in talks with Alphabet’s CapitalG, Nvidia to fund round at up to $30B valuation\\n\\nGemini 2.5\\n\\n### Google rolls out Gemini Deep Think AI, a reasoning model that tests multiple ideas in parallel\\n\\nclose up of a semiconductor\\n\\n### Female-founded semiconductor AI startup SixSense raises $8.5M\\n\\nAndy Jassy, chief executive officer of Amazon.com Inc.\\n\\n### Amazon CEO wants to put ads in your Alexa+ conversations [...] The Meta Platforms Inc. pavilion ahead of the World Economic Forum (WEF) in Davos, Switzerland, on Jan. 19, 2025.\\n\\n### Meta to spend up to $72B on AI infrastructure in 2025 as compute arms race escalates\\n\\n### Zuckerberg signals Meta won’t open source all of its ‘superintelligence’ AI models\\n\\nEvent Logo [...] ### Tim Cook reportedly tells employees Apple ‘must’ win in AI\\n\\nAnthropic Claude 3.5 logo\\n\\n### Anthropic cuts off OpenAI’s access to its Claude models\\n\\nNvidia logo\\n\\n### A backlog at the Commerce Department is reportedly stalling Nvidia’s H20 chip licenses\\n\\nSTAN\\n\\n### Google bets on STAN, an Indian social gaming platform\\n\\nAnthropic co-founder and CEO Dario Amodei speaking at Viva Technology in Paris\\n\\n### From Meta’s massive offers to Anthropic’s massive valuation, does AI have a ceiling?',\n",
       "  'score': 0.6778372},\n",
       " {'title': 'Top 5 AI Developments and Tech Updates Before August 2025',\n",
       "  'url': 'https://vavoza.com/top-5-ai-developments-and-tech-updates-before-august-2025/',\n",
       "  'content': 'Picture of Vavoza Team\\nPicture of Vavoza Team\\n\\n# Top 5 AI Developments and Tech Updates Before August 2025\\n\\nHere are the top 5 artificial intelligence developments, technology updates, news, and trending AI tools before August 2025:\\n\\n## Latest Technology News and Updates\\n\\n## Trending AI Tools\\n\\nYou may also want to check out some of our other recent updates.\\n\\nSubscribe to Vavoza Insider to access the latest business and marketing insights, news, and trends daily! 🗞️\\n\\n## Share With Your Audience [...] Wanna Know What’s  \\nTrending Online?\\n\\nSubscribe to access the latest business and marketing insights, news, and trends daily! [...] enthusiastic young african american woman taking selfie\\n\\n### Never Let Then Know Your Next Move: Ride This Viral Trend\\n\\nDUNKIN’ Crowns Gavin Casalegno “King of Summer”\\n\\n### Dunkin’ Donuts Golden Hour Refresher Ad: Trending Topic\\n\\nWoman recording herself for a content trend\\n\\n### Elite Ball Knowledge: Niche-Specific and Relatable TikTok Trend\\n\\nVAVOZA\\n\\nCopyright © 2025 VAVOZA, All Rights Reserved\\n\\nPrivacy Policy | Terms & Conditions\\n\\nWant More Leads and Customers?',\n",
       "  'score': 0.5112048},\n",
       " {'title': '25 New Technology Trends for 2025 - Simplilearn.com',\n",
       "  'url': 'https://www.simplilearn.com/top-technology-trends-and-jobs-article',\n",
       "  'content': \"| Applied Generative AI Specialization Cohort Starts: 18 Aug, 2025 | 16 weeks | $2,995 |\\n| Generative AI for Business Transformation Cohort Starts: 21 Aug, 2025 | 12 weeks | $2,499 |\\n| Artificial Intelligence Engineer | 11 Months | $1,449 | [...] This technology is not only enhancing productivity but also revolutionizing how businesses approach problem-solving, customer engagement, and creative processes, making tools more accessible and versatile across various sectors. In 2025, organizations will continue integrating generative AI into workflows to innovate faster and provide personalized services at scale.\\n\\n## 2. Quantum Computing [...] AI is critical in enhancing cybersecurity by automating complex processes for detecting and responding to threats. AI systems can analyze vast amounts of data for abnormal patterns, predict potential threats, and implement real-time defenses. This trend is crucial in addressing cyber attacks' increasing sophistication and frequency.\\n\\n## 21. Digital Twins\",\n",
       "  'score': 0.4362623}]"
      ]
     },
     "execution_count": 16,
     "metadata": {},
     "output_type": "execute_result"
    }
   ],
   "source": [
    "tavily.invoke(\"Provide me the recent AI news\")"
   ]
  },
  {
   "cell_type": "code",
   "execution_count": 17,
   "id": "638a643a",
   "metadata": {},
   "outputs": [],
   "source": [
    "tools=[arxiv,wiki,tavily]"
   ]
  },
  {
   "cell_type": "code",
   "execution_count": 24,
   "id": "845d06e8",
   "metadata": {},
   "outputs": [],
   "source": [
    "from langchain_groq import ChatGroq\n",
    "llm=ChatGroq(model=\"gemma2-9b-it\")\n",
    "llm_with_tools=llm.bind_tools(tools)"
   ]
  },
  {
   "cell_type": "code",
   "execution_count": 25,
   "id": "b6dc8df9",
   "metadata": {},
   "outputs": [],
   "source": [
    "from langchain_core.messages import AIMessage, HumanMessage"
   ]
  },
  {
   "cell_type": "code",
   "execution_count": 27,
   "id": "8c0ed6ca",
   "metadata": {},
   "outputs": [
    {
     "data": {
      "text/plain": [
       "[{'name': 'tavily_search_results_json',\n",
       "  'args': {'query': 'recent AI news'},\n",
       "  'id': 's3095z0nd',\n",
       "  'type': 'tool_call'}]"
      ]
     },
     "execution_count": 27,
     "metadata": {},
     "output_type": "execute_result"
    }
   ],
   "source": [
    "llm_with_tools.invoke([HumanMessage(content=\"What is the recent AI news\")]).tool_calls"
   ]
  },
  {
   "cell_type": "code",
   "execution_count": 28,
   "id": "50983ae0",
   "metadata": {},
   "outputs": [],
   "source": [
    "from IPython.display import Image, display\n",
    "from langgraph.prebuilt import ToolNode\n",
    "from langgraph.prebuilt import tools_condition\n",
    "from langgraph.graph import StateGraph, START, END"
   ]
  },
  {
   "cell_type": "code",
   "execution_count": 29,
   "id": "2201b645",
   "metadata": {},
   "outputs": [],
   "source": [
    "from typing_extensions import TypedDict\n",
    "from langchain_core.messages import AnyMessage\n",
    "from typing import Annotated\n",
    "from langgraph.graph.message import add_messages\n",
    "class State(TypedDict):\n",
    "    messages:Annotated[list[AnyMessage], add_messages]"
   ]
  },
  {
   "cell_type": "code",
   "execution_count": 33,
   "id": "8858c7fd",
   "metadata": {},
   "outputs": [],
   "source": [
    "def tool_calling_llm(state: State):\n",
    "    return {'messages':[llm_with_tools.invoke(state[\"messages\"])]}\n"
   ]
  },
  {
   "cell_type": "code",
   "execution_count": 34,
   "id": "a66a1e29",
   "metadata": {},
   "outputs": [
    {
     "data": {
      "image/png": "[encoded data removed]",
      "text/plain": [
       "<IPython.core.display.Image object>"
      ]
     },
     "metadata": {},
     "output_type": "display_data"
    }
   ],
   "source": [
    "builder = StateGraph(State)\n",
    "builder.add_node(\"tool_calling_llm\", tool_calling_llm)\n",
    "builder.add_node(\"tools\",ToolNode(tools))\n",
    "\n",
    "builder.add_edge(START, \"tool_calling_llm\")\n",
    "builder.add_conditional_edges(\n",
    "    \"tool_calling_llm\",\n",
    "    tools_condition\n",
    ")\n",
    "builder.add_edge(\"tools\", END)\n",
    "\n",
    "graph=builder.compile()\n",
    "display(Image(graph.get_graph().draw_mermaid_png()))"
   ]
  },
  {
   "cell_type": "code",
   "execution_count": 36,
   "id": "3f5a160a",
   "metadata": {},
   "outputs": [
    {
     "name": "stdout",
     "output_type": "stream",
     "text": [
      "================================\u001b[1m Human Message \u001b[0m=================================\n",
      "\n",
      "What is attention is all you need\n",
      "==================================\u001b[1m Ai Message \u001b[0m==================================\n",
      "Tool Calls:\n",
      "  wikipedia (f41grnn7j)\n",
      " Call ID: f41grnn7j\n",
      "  Args:\n",
      "    query: Attention is all you need\n",
      "=================================\u001b[1m Tool Message \u001b[0m=================================\n",
      "Name: wikipedia\n",
      "\n",
      "Page: Attention Is All You Need\n",
      "Summary: \"Attention Is All You Need\" is a 2017 landmark research paper in machine learning authored by eight scientists working at Google. The paper introduced a new deep learning architecture known as the transformer, based on the attention mechanism proposed in 2014 by Bahdanau et al. It is considered a foundational paper in modern artificial intelligence, and a main contributor to the AI boom, as the transformer approach has become the main architecture of a wi\n"
     ]
    }
   ],
   "source": [
    "messages=graph.invoke({\"messages\":HumanMessage(content=\"What is attention is all you need\")})\n",
    "for m in messages[\"messages\"]:\n",
    "    m.pretty_print()\n"
   ]
  },
  {
   "cell_type": "code",
   "execution_count": 37,
   "id": "a41908ee",
   "metadata": {},
   "outputs": [
    {
     "data": {
      "text/plain": [
       "{'messages': [HumanMessage(content='What is attention is all you need', additional_kwargs={}, response_metadata={}, id='ebf2d161-c37f-45ff-be07-93deeb143886'),\n",
       "  AIMessage(content='', additional_kwargs={'tool_calls': [{'id': 'f41grnn7j', 'function': {'arguments': '{\"query\":\"Attention is all you need\"}', 'name': 'wikipedia'}, 'type': 'function'}]}, response_metadata={'token_usage': {'completion_tokens': 83, 'prompt_tokens': 1287, 'total_tokens': 1370, 'completion_time': 0.150909091, 'prompt_time': 0.024426858, 'queue_time': 0.256821272, 'total_time': 0.175335949}, 'model_name': 'gemma2-9b-it', 'system_fingerprint': 'fp_10c08bf97d', 'service_tier': 'on_demand', 'finish_reason': 'tool_calls', 'logprobs': None}, id='run--4fc584e2-f3f1-41e9-be45-2cd5a46ccc3f-0', tool_calls=[{'name': 'wikipedia', 'args': {'query': 'Attention is all you need'}, 'id': 'f41grnn7j', 'type': 'tool_call'}], usage_metadata={'input_tokens': 1287, 'output_tokens': 83, 'total_tokens': 1370}),\n",
       "  ToolMessage(content='Page: Attention Is All You Need\\nSummary: \"Attention Is All You Need\" is a 2017 landmark research paper in machine learning authored by eight scientists working at Google. The paper introduced a new deep learning architecture known as the transformer, based on the attention mechanism proposed in 2014 by Bahdanau et al. It is considered a foundational paper in modern artificial intelligence, and a main contributor to the AI boom, as the transformer approach has become the main architecture of a wi', name='wikipedia', id='4bed02d4-f112-4be2-9e06-884901425221', tool_call_id='f41grnn7j')]}"
      ]
     },
     "execution_count": 37,
     "metadata": {},
     "output_type": "execute_result"
    }
   ],
   "source": [
    "messages"
   ]
  },
  {
   "cell_type": "code",
   "execution_count": 39,
   "id": "b9c0be17",
   "metadata": {},
   "outputs": [
    {
     "name": "stdout",
     "output_type": "stream",
     "text": [
      "================================\u001b[1m Human Message \u001b[0m=================================\n",
      "\n",
      "Todays weather in India\n",
      "==================================\u001b[1m Ai Message \u001b[0m==================================\n",
      "Tool Calls:\n",
      "  tavily_search_results_json (a05cqn4m1)\n",
      " Call ID: a05cqn4m1\n",
      "  Args:\n",
      "    query: Todays weather in India\n",
      "=================================\u001b[1m Tool Message \u001b[0m=================================\n",
      "Name: tavily_search_results_json\n",
      "\n",
      "[{\"title\": \"Delhi Weather Forecast for March 8, 2025: Sunny, Breezy and ...\", \"url\": \"https://www.moneycontrol.com/travel/delhi-weather-forecast-for-march-8-2025-sunny-breezy-and-warming-up-article-12959507.html\", \"content\": \"Delhi wakes up to clear skies and a crisp morning on Saturday, March 8, 2025. Strong surface winds will sweep through the city, keeping the weather dry and breezy throughout the day. According to the India Meteorological Department (IMD), the day will start on a chilly note at 12°C, gradually warming up to 31°C by the afternoon. With no rain in sight, Delhiites can expect a bright, breezy, and pleasant day ahead.\\n\\nDelhi Sun & Moon Timings – March 8, 2025 [...] On March 8, 2025, Delhi will see the sunrise at 6:40 AM, marking the start of a clear and breezy day. Sunset and moon timings will be updated as available.\\n\\nDelhi 6-Day Weather Forecast\\n\\n|  |  |  |\\n| --- | --- | --- |\\n| Date | Weather | Temperature (High/Low °C) |\\n| Mar-08 | Mist | 31°C / 12°C |\\n| Mar-09 | Mist | 32°C / 14°C |\\n| Mar-10 | Mist | 33°C / 16°C |\\n| Mar-11 | Mist | 34°C / 17°C |\\n| Mar-12 | Mist | 33°C / 18°C |\\n| Mar-13 | Mist | 33°C / 17°C |\\n\\nWhat to Expect in the Coming Days [...] # Delhi Weather Forecast for March 8, 2025: Sunny, Breezy and Warming Up!\\n\\n## Get the latest Delhi weather forecast with real-time updates on temperature, wind conditions, and sky outlook.\\n\\nDelhi Weather Forecast Today\\n\\n## Delhi Weather Forecast Today\", \"score\": 0.8834878}, {\"title\": \"Weather India in August 2025: Temperature & Climate\", \"url\": \"https://en.climate-data.org/asia/india-129/c/august-8/\", \"content\": \"| 3. August | 27 °C | 80 °F | 27 °C | 81 °F | 26 °C | 79 °F | 28 °C | 82 °F | 4.5 mm | 0.2 inch. |\\n| 4. August | 27 °C | 80 °F | 27 °C | 81 °F | 26 °C | 79 °F | 28 °C | 82 °F | 3.4 mm | 0.1 inch. |\\n| 5. August | 26 °C | 80 °F | 27 °C | 81 °F | 26 °C | 79 °F | 28 °C | 82 °F | 2.8 mm | 0.1 inch. |\\n| 6. August | 26 °C | 80 °F | 27 °C | 81 °F | 26 °C | 79 °F | 28 °C | 82 °F | 3.0 mm | 0.1 inch. |\\n| 7. August | 27 °C | 80 °F | 27 °C | 81 °F | 26 °C | 79 °F | 28 °C | 82 °F | 2.7 mm | 0.1 inch. | [...] | Rainy days (d) | 0 | 0 | 0 | 0 | 3 | 18 | 22 | 22 | 18 | 6 | 1 | 0 |\\n| avg. Sun hours (hours) | 9.9 | 10.1 | 10.5 | 10.6 | 9.9 | 8.8 | 8.8 | 9.0 | 8.5 | 9.7 | 10.0 | 9.8 | [...] |  | Avg. Temperature °C (°F) | Min. Temperature °C (°F) | Max. Temperature °C (°F) | Precipitation / Rainfall mm (in) | Humidity (%) | Rainy days (d) | avg. Sun hours (hours) |\\n| --- | --- | --- | --- | --- | --- | --- | --- |\\n| January | 14.6 (58.3) | 8 (46.5) | 21.6 (70.9) | 9 (0.4) | 53% | 1 | 9.0 |\\n| February | 18.3 (64.9) | 11.2 (52.2) | 25.5 (77.9) | 11 (0.4) | 43% | 2 | 10.0 |\\n| March | 24.1 (75.3) | 16.4 (61.5) | 31.6 (88.8) | 7 (0.3) | 30% | 2 | 11.0 |\", \"score\": 0.81204927}, {\"title\": \"2025 - 403802, Goa, India Monthly Weather | AccuWeather\", \"url\": \"https://www.accuweather.com/en/in/403802/403802/august-weather/528489_pc\", \"content\": \"M \\n\\n T \\n\\n W \\n\\n T \\n\\n F \\n\\n S \\n\\n27 84° 76°28 84° 76°29 85° 77°30 85° 77°31 86° 78°1 85° 78°2 85° 77°3 86° 78°4 84° 76°5 85° 76°6 84° 76°7 85° 76°8 85° 76°9 86° 76°10 84° 77°11 87° 76°12 86° 75°13 87° 75°14 86° 76°15 87° 74°16 87° 75°17 88° 76°18 87° 75°19 87° 75°20 88° 74°21 87° 74°22 87° 75°23 88° 74°24 87° 74°25 88° 75°26 87° 74°27 88° 75°28 87° 74°29 87° 74°30 88° 75°31 87° 76°1 87° 75°2 88° 75°3 87° 76°4 89° 75°5 88° 76°6 87° 75°\\n\\nTemperature Graph\\n-----------------\\n\\n°F\\n\\nAvg. Hi\\n\\nAvg. Lo [...] Weather News AccuWeather joins Perplexity to power AI weather answers 3 days ago Image 6Travel A mother thought her baby was blown out of a plane 2 days ago Image 7Weather News Fossil reveals ‘Last of Us’-type fungus likely lived with dinosaurs 4 days ago Image 8Climate Your AI prompts could have a hidden environmental cost 6 days ago Image 9Weather News World’s most liveable city for 2025 revealed 5 days ago Image 10\\n\\nGames Center\\n------------\\n\\nImage 11Puzzle Games\\n\\nImage 12Arcade Games\", \"score\": 0.6391287}, {\"title\": \"2025 - Varanasi, Uttar Pradesh, India Monthly Weather | AccuWeather\", \"url\": \"https://www.accuweather.com/en/in/varanasi/206681/august-weather/206681\", \"content\": \"27 89° 80°28 90° 81°29 91° 81°30 89° 80°31 90° 81°1 89° 80°2 89° 80°3 87° 81°4 88° 80°5 87° 79°6 89° 79°7 89° 80°8 86° 81°9 90° 80°10 89° 79°11 89° 79°12 90° 80°13 88° 80°14 89° 81°15 89° 80°16 90° 80°17 89° 79°18 89° 80°19 90° 80°20 90° 81°21 91° 81°22 91° 80°23 92° 82°24 92° 80°25 91° 78°26 90° 79°27 90° 78°28 91° 80°29 92° 79°30 93° 80°31 92° 79°1 92° 78°2 90° 78°3 90° 79°4 91° 78°5 90° 77°6 90° 77°\\n\\nTemperature Graph\\n-----------------\\n\\n°F\\n\\nAvg. Hi\\n\\nAvg. Lo\\n\\nActual Hi\\n\\nActual Lo [...] Weather Forecasts Thunderstorms fuel increasing flash flooding threat in Texas 1 hour ago Image 1Weather News Engine fuel supply cut just before Air India jet crash, report says 2 hours ago Image 2Weather News Texas Hill Country: Before, during and after the flood 1 day ago Image 3Weather News Flash flooding swamps Iowa Quad Cities as storms unleash damaging rain 21 hours ago Image 4Severe Weather Rounds of severe storms to rattle, drench eastern US 3 hours ago Image 5More Stories [...] Featured Stories\\n\\nHealth How can families handle new anxieties around summer camp? 1 day ago Image 6Weather News Viral pygmy hippo Moo Deng celebrates her first birthday 2 days ago Image 7Weather News Orcas are bringing humans gifts of food – but why? 2 days ago Image 8Business Samsung is looking into more AI devices potentially including earrings... 2 days ago Image 9Weather News The US has a plan to breed millions of flies and drop them from planes 2 days ago Image 10\", \"score\": 0.60917604}, {\"title\": \"[PDF] Dated: 31st July, 2025 - India Meteorological Department\", \"url\": \"https://internal.imd.gov.in/section/nhac/dynamic/extended.pdf\", \"content\": \"53.9 +19% 200.1 180.8 +11% 2. Large scale features: ❖ Currently, Neutral El Niño–Southern Oscillation (ENSO) conditions prevail over the Equatorial Pacific Ocean. Forecasts from the latest Monsoon Mission Climate Forecast System (MMCFS) and other climate models suggest that these neutral conditions likely to persist till the end of the monsoon season. ❖ Currently, neutral Indian Ocean Dipole (IOD) conditions are being observed over the Indian Ocean. The model forecast indicates a possible [...] places over Sub Himalayan West Bengal & Sikkim, Jammu-Kashmir-Ladakh-Gilgit-Baltistan-Muzaffarabad and Tamil Nadu, Puducherry & Karaikal; above normal (1.6°C to 3.0°C) at few places over Uttarakhand and Himachal Pradesh. It is near normal or below normal over rest parts of the country. The highest maximum temperature of 39.6°C is reported at SRIGANGANAGAR (RAJASTHAN). ❖ Maximum temperatures are likely to be above normal by 1-3°C over Uttar Pradesh, Bihar and most parts of northeast India. These [...] height. ❖ A trough runs from northeast Arabian Sea to northwest Bay of Bengal across central India lower & middle tropospheric levels tilting southwestwards with height. ❖ A cyclonic circulation lies over central Assam in lower tropospheric levels.\", \"score\": 0.5614318}]\n"
     ]
    }
   ],
   "source": [
    "messages=graph.invoke({\"messages\":HumanMessage(content=\"Todays weather in India\")})\n",
    "for m in messages[\"messages\"]:\n",
    "    m.pretty_print()\n"
   ]
  },
  {
   "cell_type": "code",
   "execution_count": null,
   "id": "74d350c8",
   "metadata": {},
   "outputs": [],
   "source": []
  }
 ],
 "metadata": {
  "kernelspec": {
   "display_name": ".venv",
   "language": "python",
   "name": "python3"
  },
  "language_info": {
   "codemirror_mode": {
    "name": "ipython",
    "version": 3
   },
   "file_extension": ".py",
   "mimetype": "text/x-python",
   "name": "python",
   "nbconvert_exporter": "python",
   "pygments_lexer": "ipython3",
   "version": "3.10.4"
  }
 },
 "nbformat": 4,
 "nbformat_minor": 5
}
